{
  "nbformat": 4,
  "nbformat_minor": 0,
  "metadata": {
    "colab": {
      "provenance": [],
      "authorship_tag": "ABX9TyMAUzhs4dVGchM9ObF/kj5D",
      "include_colab_link": true
    },
    "kernelspec": {
      "name": "python3",
      "display_name": "Python 3"
    },
    "language_info": {
      "name": "python"
    }
  },
  "cells": [
    {
      "cell_type": "markdown",
      "metadata": {
        "id": "view-in-github",
        "colab_type": "text"
      },
      "source": [
        "<a href=\"https://colab.research.google.com/github/Vishnuvardhan172709/Aiml-/blob/main/lab%20exam%20%2026/11/2024.ipynb\" target=\"_parent\"><img src=\"https://colab.research.google.com/assets/colab-badge.svg\" alt=\"Open In Colab\"/></a>"
      ]
    },
    {
      "cell_type": "markdown",
      "source": [
        "Prediction of South Indian travel Destinations using Holiday Data\n",
        "1. Identify the top 5 attributes for south India destinations\n",
        "2. Identify the attribute with most liked travel spots\n",
        "3.Find the max and min attributes of choice for south India\n",
        "tourism\n",
        "4. What is the role of beaches, theatres, malls, parks in south India tourism\n",
        "5. Identify the sports with most attributes in south India\n",
        "6. Apply either Classification Model or Clustering Model to evaluate the dataset"
      ],
      "metadata": {
        "id": "vvrs1wpssIW0"
      }
    },
    {
      "cell_type": "markdown",
      "source": [
        "1.Identify the top 5 attributes for south India destinations"
      ],
      "metadata": {
        "id": "l2hZOQ47sK52"
      }
    },
    {
      "cell_type": "code",
      "source": [
        "import pandas as pd\n",
        "\n",
        "data = {\n",
        "    'Destination': ['Kochi', 'Chennai', 'Ooty', 'Pondicherry', 'Madurai', 'Mysore', 'Kovalam', 'Bangalore'],\n",
        "    'Attributes': [\n",
        "        ['Beaches', 'Temples', 'Parks'],\n",
        "        ['Beaches', 'Malls', 'Parks'],\n",
        "        ['Temples', 'Mountains', 'Parks'],\n",
        "        ['Beaches', 'Cultural Heritage'],\n",
        "        ['Temples', 'Cultural Heritage', 'Parks'],\n",
        "        ['Cultural Heritage', 'Parks'],\n",
        "        ['Beaches', 'Parks', 'Water Sports'],\n",
        "        ['Malls', 'Parks', 'Cultural Heritage']\n",
        "    ]\n",
        "}\n",
        "\n",
        "df = pd.DataFrame(data)\n",
        "\n",
        "attributes = df['Attributes'].explode().value_counts()\n",
        "top_5_attributes = attributes.head(5)\n",
        "print(\"Top 5 Attributes:\")\n",
        "print(top_5_attributes)\n"
      ],
      "metadata": {
        "colab": {
          "base_uri": "https://localhost:8080/"
        },
        "id": "ghpxOuMQsXOI",
        "outputId": "6ebc5de5-5084-44cd-f0cf-280f2d6c15c5"
      },
      "execution_count": 2,
      "outputs": [
        {
          "output_type": "stream",
          "name": "stdout",
          "text": [
            "Top 5 Attributes:\n",
            "Attributes\n",
            "Parks                7\n",
            "Beaches              4\n",
            "Cultural Heritage    4\n",
            "Temples              3\n",
            "Malls                2\n",
            "Name: count, dtype: int64\n"
          ]
        }
      ]
    },
    {
      "cell_type": "markdown",
      "source": [
        "2.Identify the attribute with most liked travel spots"
      ],
      "metadata": {
        "id": "Rscenuqzs21W"
      }
    },
    {
      "cell_type": "code",
      "source": [
        "df['Rating'] = [4.5, 4.7, 4.3, 4.6, 4.8, 4.4, 4.7, 4.2]\n",
        "\n",
        "df_exploded = df.explode('Attributes')\n",
        "\n",
        "avg_rating_per_attribute = df_exploded.groupby('Attributes')['Rating'].mean().sort_values(ascending=False)\n",
        "most_liked_attribute = avg_rating_per_attribute.head(1)\n",
        "print(\"Most Liked Attribute:\")\n",
        "print(most_liked_attribute)\n"
      ],
      "metadata": {
        "colab": {
          "base_uri": "https://localhost:8080/"
        },
        "id": "XLn9tT5ms-nj",
        "outputId": "924fb179-7d06-4182-ee81-f788c530d271"
      },
      "execution_count": 5,
      "outputs": [
        {
          "output_type": "stream",
          "name": "stdout",
          "text": [
            "Most Liked Attribute:\n",
            "Attributes\n",
            "Water Sports    4.7\n",
            "Name: Rating, dtype: float64\n"
          ]
        }
      ]
    },
    {
      "cell_type": "markdown",
      "source": [
        "3.Find the max and min attributes of choice for south India tourism"
      ],
      "metadata": {
        "id": "a36_IJkhuXJg"
      }
    },
    {
      "cell_type": "code",
      "source": [
        "attribute_counts = df['Attributes'].explode().value_counts()\n",
        "\n",
        "max_attribute = attribute_counts.idxmax()\n",
        "min_attribute = attribute_counts.idxmin()\n",
        "\n",
        "print(\"Max Attribute of Choice:\", max_attribute)\n",
        "print(\"Min Attribute of Choice:\", min_attribute)\n"
      ],
      "metadata": {
        "colab": {
          "base_uri": "https://localhost:8080/"
        },
        "id": "BxEqHJ8eufJN",
        "outputId": "7b12d64c-a9db-4700-ba76-98bc96286167"
      },
      "execution_count": 8,
      "outputs": [
        {
          "output_type": "stream",
          "name": "stdout",
          "text": [
            "Max Attribute of Choice: Parks\n",
            "Min Attribute of Choice: Mountains\n"
          ]
        }
      ]
    },
    {
      "cell_type": "markdown",
      "source": [
        "4.What is the role of beaches, theatres, malls, parks in south India tourism"
      ],
      "metadata": {
        "id": "Rtc43umxu2c5"
      }
    },
    {
      "cell_type": "code",
      "source": [
        "beaches_role = df[df['Attributes'].apply(lambda x: 'Beaches' in x)]\n",
        "theatres_role = df[df['Attributes'].apply(lambda x: 'Theatres' in x)]\n",
        "malls_role = df[df['Attributes'].apply(lambda x: 'Malls' in x)]\n",
        "parks_role = df[df['Attributes'].apply(lambda x: 'Parks' in x)]\n",
        "\n",
        "print(\"Destinations with Beaches:\")\n",
        "print(beaches_role['Destination'])\n",
        "print(\"\\nDestinations with Theatres:\")\n",
        "print(theatres_role['Destination'])\n",
        "print(\"\\nDestinations with Malls:\")\n",
        "print(malls_role['Destination'])\n",
        "print(\"\\nDestinations with Parks:\")\n",
        "print(parks_role['Destination'])\n"
      ],
      "metadata": {
        "colab": {
          "base_uri": "https://localhost:8080/"
        },
        "id": "AWXA-Aqhu6Mz",
        "outputId": "ae0fba2d-9d8d-4751-dcf4-56c6ff685b7e"
      },
      "execution_count": 12,
      "outputs": [
        {
          "output_type": "stream",
          "name": "stdout",
          "text": [
            "Destinations with Beaches:\n",
            "0          Kochi\n",
            "1        Chennai\n",
            "3    Pondicherry\n",
            "6        Kovalam\n",
            "Name: Destination, dtype: object\n",
            "\n",
            "Destinations with Theatres:\n",
            "Series([], Name: Destination, dtype: object)\n",
            "\n",
            "Destinations with Malls:\n",
            "1      Chennai\n",
            "7    Bangalore\n",
            "Name: Destination, dtype: object\n",
            "\n",
            "Destinations with Parks:\n",
            "0        Kochi\n",
            "1      Chennai\n",
            "2         Ooty\n",
            "4      Madurai\n",
            "5       Mysore\n",
            "6      Kovalam\n",
            "7    Bangalore\n",
            "Name: Destination, dtype: object\n"
          ]
        }
      ]
    },
    {
      "cell_type": "markdown",
      "source": [
        "5.Identify the sports with most attributes in south India"
      ],
      "metadata": {
        "id": "pUbh1D4GvF2K"
      }
    },
    {
      "cell_type": "code",
      "source": [
        "df['Attributes'] = df['Attributes'].apply(lambda x: x + ['Cricket', 'Football', 'Water Sports'])\n",
        "\n",
        "sports = df['Attributes'].explode().value_counts()\n",
        "\n",
        "sports_with_most_attributes = sports.head(5)\n",
        "print(\"Sports with Most Attributes:\")\n",
        "print(sports_with_most_attributes)\n"
      ],
      "metadata": {
        "colab": {
          "base_uri": "https://localhost:8080/"
        },
        "id": "KAZ5aQHKvW76",
        "outputId": "3ea88d50-b788-47cd-ad2d-c17260187ec2"
      },
      "execution_count": 14,
      "outputs": [
        {
          "output_type": "stream",
          "name": "stdout",
          "text": [
            "Sports with Most Attributes:\n",
            "Attributes\n",
            "Water Sports    17\n",
            "Cricket         16\n",
            "Football        16\n",
            "Parks            7\n",
            "Beaches          4\n",
            "Name: count, dtype: int64\n"
          ]
        }
      ]
    },
    {
      "cell_type": "markdown",
      "source": [
        "6.Apply either Classification Model or Clustering Model to evaluate the dataset"
      ],
      "metadata": {
        "id": "_F2zs2ctvogq"
      }
    },
    {
      "cell_type": "code",
      "source": [
        "from sklearn.feature_extraction.text import TfidfVectorizer\n",
        "from sklearn.cluster import KMeans\n",
        "\n",
        "df['Attributes_Str'] = df['Attributes'].apply(lambda x: ' '.join(x))\n",
        "\n",
        "vectorizer = TfidfVectorizer(stop_words='english')\n",
        "X = vectorizer.fit_transform(df['Attributes_Str'])\n",
        "\n",
        "kmeans = KMeans(n_clusters=3, random_state=42)\n",
        "df['Cluster'] = kmeans.fit_predict(X)\n",
        "\n",
        "print(\"Clustering Results:\")\n",
        "print(df[['Destination', 'Cluster']])\n"
      ],
      "metadata": {
        "colab": {
          "base_uri": "https://localhost:8080/"
        },
        "id": "fozKUiOnvxrM",
        "outputId": "f2b31402-a781-4a8a-8c51-fed63541d163"
      },
      "execution_count": 16,
      "outputs": [
        {
          "output_type": "stream",
          "name": "stdout",
          "text": [
            "Clustering Results:\n",
            "   Destination  Cluster\n",
            "0        Kochi        2\n",
            "1      Chennai        2\n",
            "2         Ooty        0\n",
            "3  Pondicherry        1\n",
            "4      Madurai        1\n",
            "5       Mysore        1\n",
            "6      Kovalam        2\n",
            "7    Bangalore        1\n"
          ]
        }
      ]
    }
  ]
}