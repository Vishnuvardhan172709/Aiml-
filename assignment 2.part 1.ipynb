{
  "nbformat": 4,
  "nbformat_minor": 0,
  "metadata": {
    "colab": {
      "provenance": [],
      "authorship_tag": "ABX9TyN3NL1KP4ejkyJd04ZJCSlR",
      "include_colab_link": true
    },
    "kernelspec": {
      "name": "python3",
      "display_name": "Python 3"
    },
    "language_info": {
      "name": "python"
    }
  },
  "cells": [
    {
      "cell_type": "markdown",
      "metadata": {
        "id": "view-in-github",
        "colab_type": "text"
      },
      "source": [
        "<a href=\"https://colab.research.google.com/github/Vishnuvardhan172709/Aiml-/blob/main/assignment%202.part%201.ipynb\" target=\"_parent\"><img src=\"https://colab.research.google.com/assets/colab-badge.svg\" alt=\"Open In Colab\"/></a>"
      ]
    },
    {
      "cell_type": "code",
      "execution_count": 1,
      "metadata": {
        "colab": {
          "base_uri": "https://localhost:8080/"
        },
        "id": "IyOaNLovSyLx",
        "outputId": "533419eb-6beb-4c2e-a722-4f5f81284b2a"
      },
      "outputs": [
        {
          "output_type": "stream",
          "name": "stdout",
          "text": [
            "1.2\n",
            "Starting vertex: 0\n",
            "BFS Traversal Order: [0, 1, 3, 2, 4, 5]\n"
          ]
        }
      ],
      "source": [
        "from collections import deque\n",
        "print(1.2)\n",
        "def bfs(graph, start_vertex):\n",
        "    # Initialize a queue with the start vertex\n",
        "    queue = deque([start_vertex])\n",
        "    # Set to keep track of visited vertices\n",
        "    visited = set()\n",
        "    # List to keep the order of traversal\n",
        "    traversal_order = []\n",
        "\n",
        "    # Print the starting vertex\n",
        "    print(f\"Starting vertex: {start_vertex}\")\n",
        "\n",
        "    while queue:\n",
        "        # Dequeue the first vertex\n",
        "        vertex = queue.popleft()\n",
        "\n",
        "        if vertex not in visited:\n",
        "            # Mark the vertex as visited\n",
        "            visited.add(vertex)\n",
        "            # Add the vertex to the traversal order\n",
        "            traversal_order.append(vertex)\n",
        "\n",
        "            # Enqueue all adjacent vertices that haven't been visited\n",
        "            for neighbor in graph[vertex]:\n",
        "                if neighbor not in visited:\n",
        "                    queue.append(neighbor)\n",
        "\n",
        "    return traversal_order\n",
        "    # Graph as per the image\n",
        "graph = {\n",
        "    0: [1, 3],\n",
        "    1: [0, 2, 3],\n",
        "    2: [1, 4, 5],\n",
        "    3: [0, 1, 4],\n",
        "    4: [2, 3, 5],\n",
        "    5: [2, 4]\n",
        "}\n",
        "\n",
        "# Start BFS from vertex 0\n",
        "start_vertex = 0\n",
        "bfs_result = bfs(graph, start_vertex)\n",
        "print(\"BFS Traversal Order:\", bfs_result)\n",
        "\n"
      ]
    },
    {
      "cell_type": "code",
      "source": [
        "from collections import deque\n",
        "print(1.3)\n",
        "def bfs(graph, start_vertex):\n",
        "    # Initialize a queue with the start vertex\n",
        "    queue = deque([start_vertex])\n",
        "    # Set to keep track of visited vertices\n",
        "    visited = set()\n",
        "    # List to keep the order of traversal\n",
        "    traversal_order = []\n",
        "\n",
        "    # Print the starting vertex\n",
        "    print(f\"Starting vertex: {start_vertex}\")\n",
        "\n",
        "    while queue:\n",
        "        # Dequeue the first vertex\n",
        "        vertex = queue.popleft()\n",
        "\n",
        "        if vertex not in visited:\n",
        "            # Mark the vertex as visited\n",
        "            visited.add(vertex)\n",
        "            # Add the vertex to the traversal order\n",
        "            traversal_order.append(vertex)\n",
        "\n",
        "            # Print the vertex and its neighbors\n",
        "            print(f\"Visited vertex: {vertex}\")\n",
        "            print(f\"Neighbors of vertex {vertex}: {graph[vertex]}\")\n",
        "\n",
        "            # Enqueue all adjacent vertices that haven't been visited\n",
        "            for neighbor in graph[vertex]:\n",
        "                if neighbor not in visited:\n",
        "                    queue.append(neighbor)\n",
        "\n",
        "    return traversal_order\n",
        "    # Graph as per the image\n",
        "graph = {\n",
        "    0: [1, 3],\n",
        "    1: [0, 2, 3],\n",
        "    2: [1, 4, 5],\n",
        "    3: [0, 1, 4],\n",
        "    4: [2, 3, 5],\n",
        "    5: [2, 4]\n",
        "}\n",
        "\n",
        "# Start BFS from vertex 0\n",
        "start_vertex = 0\n",
        "bfs_result = bfs(graph, start_vertex)\n",
        "print(\"Final BFS Traversal Order:\", bfs_result)"
      ],
      "metadata": {
        "colab": {
          "base_uri": "https://localhost:8080/"
        },
        "id": "9-vyILsVTZUH",
        "outputId": "3c5c0cde-1e04-4b11-a260-e63399ef2ecc"
      },
      "execution_count": 2,
      "outputs": [
        {
          "output_type": "stream",
          "name": "stdout",
          "text": [
            "1.3\n",
            "Starting vertex: 0\n",
            "Visited vertex: 0\n",
            "Neighbors of vertex 0: [1, 3]\n",
            "Visited vertex: 1\n",
            "Neighbors of vertex 1: [0, 2, 3]\n",
            "Visited vertex: 3\n",
            "Neighbors of vertex 3: [0, 1, 4]\n",
            "Visited vertex: 2\n",
            "Neighbors of vertex 2: [1, 4, 5]\n",
            "Visited vertex: 4\n",
            "Neighbors of vertex 4: [2, 3, 5]\n",
            "Visited vertex: 5\n",
            "Neighbors of vertex 5: [2, 4]\n",
            "Final BFS Traversal Order: [0, 1, 3, 2, 4, 5]\n"
          ]
        }
      ]
    },
    {
      "cell_type": "code",
      "source": [
        "from collections import deque\n",
        "print(1.4)\n",
        "def bfs(graph, start_vertex):\n",
        "    # Initialize a queue with the start vertex\n",
        "    queue = deque([start_vertex])\n",
        "    # Set to keep track of visited vertices\n",
        "    visited = set()\n",
        "    # List to keep the order of traversal\n",
        "    traversal_order = []\n",
        "\n",
        "    # Print the starting vertex\n",
        "    print(f\"Starting vertex: {start_vertex}\")\n",
        "\n",
        "    # While there are vertices to process in the queue\n",
        "    while queue:\n",
        "        # Determine the number of nodes at the current level\n",
        "        level_size = len(queue)\n",
        "\n",
        "        # Process all nodes at the current level\n",
        "        for _ in range(level_size):\n",
        "            # Dequeue the first vertex\n",
        "            vertex = queue.popleft()\n",
        "\n",
        "            if vertex not in visited:\n",
        "                # Mark the vertex as visited\n",
        "                visited.add(vertex)\n",
        "                # Add the vertex to the traversal order\n",
        "                traversal_order.append(vertex)\n",
        "\n",
        "                # Print the current vertex\n",
        "                print(f\"Visited vertex: {vertex}\")\n",
        "\n",
        "                # Enqueue all adjacent vertices that haven't been visited\n",
        "                for neighbor in graph[vertex]:\n",
        "                    if neighbor not in visited:\n",
        "                      queue.append(neighbor)\n",
        "\n",
        "        # Print a line to indicate moving to the next level\n",
        "        print(\"---- Moving to the next level ----\")\n",
        "\n",
        "    return traversal_order\n",
        "\n",
        "# Graph as per the image\n",
        "graph = {\n",
        "    0: [1, 3],\n",
        "    1: [0, 2, 3],\n",
        "    2: [1, 4, 5],\n",
        "    3: [0, 1, 4],\n",
        "    4: [2, 3, 5],\n",
        "    5: [2, 4]\n",
        "}\n",
        "\n",
        "# Start BFS from vertex 0\n",
        "start_vertex = 0\n",
        "bfs_result = bfs(graph, start_vertex)\n",
        "print(\"Final BFS Traversal Order:\", bfs_result)"
      ],
      "metadata": {
        "colab": {
          "base_uri": "https://localhost:8080/"
        },
        "id": "Ccm62UVZTZdv",
        "outputId": "f9f44f08-0cf3-4d86-f3a1-95c1cf7734df"
      },
      "execution_count": 3,
      "outputs": [
        {
          "output_type": "stream",
          "name": "stdout",
          "text": [
            "1.4\n",
            "Starting vertex: 0\n",
            "Visited vertex: 0\n",
            "---- Moving to the next level ----\n",
            "Visited vertex: 1\n",
            "Visited vertex: 3\n",
            "---- Moving to the next level ----\n",
            "Visited vertex: 2\n",
            "Visited vertex: 4\n",
            "---- Moving to the next level ----\n",
            "Visited vertex: 5\n",
            "---- Moving to the next level ----\n",
            "Final BFS Traversal Order: [0, 1, 3, 2, 4, 5]\n"
          ]
        }
      ]
    },
    {
      "cell_type": "code",
      "source": [
        "from collections import deque\n",
        "print(1.1)\n",
        "def bfs(graph, start_vertex):\n",
        "    # Initialize a queue with the start vertex\n",
        "    queue = deque([start_vertex])\n",
        "    # Set to keep track of visited vertices\n",
        "    visited = set()\n",
        "    # List to keep the order of traversal\n",
        "    traversal_order = []\n",
        "\n",
        "    while queue:\n",
        "        # Dequeue the first vertex\n",
        "        vertex = queue.popleft()\n",
        "\n",
        "        if vertex not in visited:\n",
        "            # Mark the vertex as visited\n",
        "            visited.add(vertex)\n",
        "            # Add the vertex to the traversal order\n",
        "            traversal_order.append(vertex)\n",
        "\n",
        "            # Enqueue all adjacent vertices that haven't been visited\n",
        "            for neighbor in graph[vertex]:\n",
        "                if neighbor not in visited:\n",
        "                    queue.append(neighbor)\n",
        "\n",
        "    return traversal_order\n",
        "# Graph as per the image\n",
        "graph = {\n",
        "    0: [1, 3],\n",
        "    1: [0, 2, 3],\n",
        "    2: [1, 4, 5],\n",
        "    3: [0, 1, 4],\n",
        "    4: [2, 3, 5],\n",
        "    5: [2, 4]\n",
        "}\n",
        "\n",
        "# Start BFS from vertex 0\n",
        "start_vertex = 0\n",
        "bfs_result = bfs(graph, start_vertex)\n",
        "print(\"BFS Traversal Order:\", bfs_result)\n"
      ],
      "metadata": {
        "colab": {
          "base_uri": "https://localhost:8080/"
        },
        "id": "CNKyfsC9TZfR",
        "outputId": "99f021f0-e00a-4834-c836-403b0380769b"
      },
      "execution_count": 4,
      "outputs": [
        {
          "output_type": "stream",
          "name": "stdout",
          "text": [
            "1.1\n",
            "BFS Traversal Order: [0, 1, 3, 2, 4, 5]\n"
          ]
        }
      ]
    },
    {
      "cell_type": "code",
      "source": [],
      "metadata": {
        "id": "-SKfJKMHTZhF"
      },
      "execution_count": null,
      "outputs": []
    },
    {
      "cell_type": "code",
      "source": [],
      "metadata": {
        "id": "DB_WGvNtTZkj"
      },
      "execution_count": null,
      "outputs": []
    }
  ]
}