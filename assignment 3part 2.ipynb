{
  "nbformat": 4,
  "nbformat_minor": 0,
  "metadata": {
    "colab": {
      "provenance": [],
      "authorship_tag": "ABX9TyP/7PGAkA3Vg9ZcC1qQXDu4",
      "include_colab_link": true
    },
    "kernelspec": {
      "name": "python3",
      "display_name": "Python 3"
    },
    "language_info": {
      "name": "python"
    }
  },
  "cells": [
    {
      "cell_type": "markdown",
      "metadata": {
        "id": "view-in-github",
        "colab_type": "text"
      },
      "source": [
        "<a href=\"https://colab.research.google.com/github/Vishnuvardhan172709/Aiml-/blob/main/assignment%203part%202.ipynb\" target=\"_parent\"><img src=\"https://colab.research.google.com/assets/colab-badge.svg\" alt=\"Open In Colab\"/></a>"
      ]
    },
    {
      "cell_type": "code",
      "execution_count": 2,
      "metadata": {
        "colab": {
          "base_uri": "https://localhost:8080/"
        },
        "id": "4PM6j5qYkSuH",
        "outputId": "61907db5-6d72-4e7c-ea02-9b0081466573"
      },
      "outputs": [
        {
          "output_type": "stream",
          "name": "stdout",
          "text": [
            "2.1\n",
            "Best Move (index): 2\n",
            "Value of Best Move: 1\n"
          ]
        }
      ],
      "source": [
        "\n",
        "\n",
        "import math\n",
        "print(2.1)\n",
        "class Game:\n",
        "    def is_terminal(self, state):\n",
        "        return state['is_terminal']\n",
        "\n",
        "    def utility(self, state, player):\n",
        "        if state['winner'] == player:\n",
        "            return 1\n",
        "        elif state['winner'] == 'B' if player == 'A' else 'A':\n",
        "            return -1\n",
        "        return 0\n",
        "\n",
        "    def actions(self, state):\n",
        "        return [i for i, x in enumerate(state['board']) if x == ' ']\n",
        "\n",
        "    def result(self, state, action):\n",
        "        new_state = state.copy()\n",
        "        new_state['board'][action] = new_state['current_player']\n",
        "        new_state['winner'] = self.check_winner(new_state['board'])\n",
        "        new_state['current_player'] = 'B' if state['current_player'] == 'A' else 'A'\n",
        "        new_state['is_terminal'] = new_state['winner'] is not None or ' ' not in new_state['board']  # Check if terminal\n",
        "        return new_state\n",
        "\n",
        "    def check_winner(self, board):\n",
        "        winning_combinations = [\n",
        "            [0, 1, 2], [3, 4, 5], [6, 7, 8],\n",
        "            [0, 3, 6], [1, 4, 7], [2, 5, 8],\n",
        "            [0, 4, 8], [2, 4, 6]\n",
        "        ]\n",
        "        for combo in winning_combinations:\n",
        "            if board[combo[0]] == board[combo[1]] == board[combo[2]] != ' ':\n",
        "                return board[combo[0]]\n",
        "        return None\n",
        "\n",
        "def minimax_search(game, state):\n",
        "\n",
        "    player = state['current_player']\n",
        "\n",
        "    def max_value(state):\n",
        "        if game.is_terminal(state):\n",
        "            return game.utility(state, player), None\n",
        "        v, move = -math.inf, None\n",
        "        for a in game.actions(state):\n",
        "            v2, _ = min_value(game.result(state, a))\n",
        "            if v2 > v:\n",
        "                v, move = v2, a\n",
        "        return v, move\n",
        "\n",
        "    def min_value(state):\n",
        "        if game.is_terminal(state):\n",
        "            return game.utility(state, player), None\n",
        "        v, move = math.inf, None\n",
        "        for a in game.actions(state):\n",
        "            v2, _ = max_value(game.result(state, a))\n",
        "            if v2 < v:\n",
        "                v, move = v2, a\n",
        "        return v, move\n",
        "\n",
        "    return max_value(state)\n",
        "\n",
        "if __name__ == \"__main__\":\n",
        "    sample_state = {\n",
        "        'is_terminal': False,\n",
        "        'utility': 0,\n",
        "        'board': [' ', ' ', ' ', ' ', ' ', ' ', ' ', ' ', ' '],\n",
        "        'current_player': 'A',\n",
        "        'winner': None\n",
        "    }\n",
        "\n",
        "    game = Game()\n",
        "    value, best_move = minimax_search(game, sample_state)\n",
        "    print(\"Best Move (index):\", best_move)\n",
        "    print(\"Value of Best Move:\", value)\n",
        "\n",
        "\n",
        "\n",
        ""
      ]
    },
    {
      "cell_type": "code",
      "source": [
        "print(2.2)\n",
        "class Game:\n",
        "    def is_terminal(self, state):\n",
        "        \"\"\"Check if the game state is terminal (i.e., game over).\"\"\"\n",
        "        return self.utility(state, 'X') != 0 or all(cell != ' ' for row in state for cell in row)\n",
        "\n",
        "    def utility(self, state, player):\n",
        "        for line in state:\n",
        "            if line.count(player) == len(line):\n",
        "                return 1\n",
        "            if line.count('O') == len(line):\n",
        "                return -1\n",
        "\n",
        "        for col in range(len(state)):\n",
        "            if all(state[row][col] == player for row in range(len(state))):\n",
        "                return 1\n",
        "            if all(state[row][col] == 'O' for row in range(len(state))):\n",
        "                return -1\n",
        "\n",
        "        if all(state[i][i] == player for i in range(len(state))):\n",
        "            return 1\n",
        "        if all(state[i][len(state)-1-i] == 'O' for i in range(len(state))):\n",
        "            return -1\n",
        "        return 0\n",
        "\n",
        "    def actions(self, state):\n",
        "        return [(i, j) for i in range(len(state)) for j in range(len(state[i])) if state[i][j] == ' ']\n",
        "\n",
        "    def result(self, state, action):\n",
        "        new_state = [row[:] for row in state]  # Create a deep copy of the state\n",
        "        new_state[action[0]][action[1]] = 'X'  # Assume player X is making the move\n",
        "        return new_state\n",
        "\n",
        "\n",
        "def alphabeta_search(game, state):\n",
        "    player = 'X'  # Assuming player X is the one to move\n",
        "\n",
        "    def max_value(state, alpha, beta):\n",
        "        if game.is_terminal(state):\n",
        "            return game.utility(state, player), None\n",
        "        v, move = float('-inf'), None\n",
        "        for a in game.actions(state):\n",
        "            v2, _ = min_value(game.result(state, a), alpha, beta)\n",
        "            if v2 > v:\n",
        "                v, move = v2, a\n",
        "            alpha = max(alpha, v)\n",
        "            if v >= beta:\n",
        "                return v, move\n",
        "        return v, move\n",
        "\n",
        "    def min_value(state, alpha, beta):\n",
        "        if game.is_terminal(state):\n",
        "            return game.utility(state, player), None\n",
        "        v, move = float('inf'), None\n",
        "        for a in game.actions(state):\n",
        "            v2, _ = max_value(game.result(state, a), alpha, beta)\n",
        "            if v2 < v:\n",
        "                v, move = v2, a\n",
        "            beta = min(beta, v)\n",
        "            if v <= alpha:\n",
        "                return v, move\n",
        "        return v, move\n",
        "\n",
        "    return max_value(state, float('-inf'), float('inf'))\n",
        "\n",
        "\n",
        "if __name__ == \"__main__\":\n",
        "    initial_state = [\n",
        "        [' ', ' ', ' '],\n",
        "        [' ', ' ', ' '],\n",
        "        [' ', ' ', ' ']\n",
        "    ]\n",
        "\n",
        "    game = Game()\n",
        "    best_score, best_move = alphabeta_search(game, initial_state)\n",
        "    print(\"Best Move:\", best_move)\n",
        "    print(\"Best Score:\", best_score)"
      ],
      "metadata": {
        "colab": {
          "base_uri": "https://localhost:8080/"
        },
        "id": "BIWSPMb5ljOq",
        "outputId": "7f8096ec-5913-4bf7-f5d5-ca7a4dc68265"
      },
      "execution_count": 3,
      "outputs": [
        {
          "output_type": "stream",
          "name": "stdout",
          "text": [
            "2.2\n",
            "Best Move: (0, 0)\n",
            "Best Score: 1\n"
          ]
        }
      ]
    }
  ]
}